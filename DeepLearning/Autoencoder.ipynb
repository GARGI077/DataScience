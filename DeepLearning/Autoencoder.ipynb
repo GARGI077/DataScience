{
  "cells": [
    {
      "cell_type": "code",
      "execution_count": 1,
      "id": "canadian-canyon",
      "metadata": {
        "id": "canadian-canyon"
      },
      "outputs": [],
      "source": [
        "import torch\n",
        "import torch.nn as nn\n",
        "import torch.nn.functional as F\n",
        "import torch.optim as optim\n",
        "from torchvision import datasets, transforms\n",
        "import matplotlib.pyplot as plt"
      ]
    },
    {
      "cell_type": "code",
      "execution_count": 16,
      "id": "gentle-metallic",
      "metadata": {
        "id": "gentle-metallic",
        "colab": {
          "base_uri": "https://localhost:8080/"
        },
        "outputId": "0ef7b1a5-67f7-4856-9fa5-7be831d1a828"
      },
      "outputs": [
        {
          "output_type": "stream",
          "name": "stdout",
          "text": [
            "Downloading data from https://storage.googleapis.com/tensorflow/tf-keras-datasets/mnist.npz\n",
            "11493376/11490434 [==============================] - 0s 0us/step\n",
            "11501568/11490434 [==============================] - 0s 0us/step\n"
          ]
        }
      ],
      "source": [
        "transform = transforms.Compose(\n",
        "    [transforms.ToTensor(),\n",
        "     transforms.Normalize((0.5), (0.5))\n",
        "    ])\n",
        "\n",
        "transform = transforms.ToTensor()\n",
        "\n",
        "mnist_data = datasets.MNIST(root='./data', train=True, download=True, transform=transform)\n",
        "(x_train,y_train),(x_test,y_test)=tf.keras.datasets.mnist.load_data()\n",
        "x_train.shape\n",
        "\n",
        "data_loader = torch.utils.data.DataLoader(dataset=mnist_data,\n",
        "                                          batch_size=64,\n",
        "                                          shuffle=True)"
      ]
    },
    {
      "cell_type": "code",
      "source": [
        "num_of_trainImgs = x_train.shape[0] #60000 here\n",
        "num_of_testImgs = x_test.shape[0] #10000 here\n",
        "img_width = 28\n",
        "img_height = 28\n",
        " \n",
        "x_train = x_train.reshape(x_train.shape[0], img_height, img_width, 1)\n",
        "x_test = x_test.reshape(x_test.shape[0], img_height, img_width, 1)\n",
        "input_shape = (img_height, img_width, 1)\n",
        "\n",
        "x_train = x_train.astype('float32')\n",
        "x_test = x_test.astype('float32')\n",
        "x_train /= 255\n",
        "x_test /= 255\n",
        "\n",
        "\n",
        "print(\"X_train Shape : \",x_train.shape)\n",
        "print(\"Number of images in x_train \",x_train.shape[0])\n",
        "print(\"Number of images in x_test \",x_test.shape[0])"
      ],
      "metadata": {
        "colab": {
          "base_uri": "https://localhost:8080/"
        },
        "id": "BFAVHF79TVqx",
        "outputId": "69bf684b-36e8-4182-c52b-77c045e1b49f"
      },
      "id": "BFAVHF79TVqx",
      "execution_count": 17,
      "outputs": [
        {
          "output_type": "stream",
          "name": "stdout",
          "text": [
            "X_train Shape :  (60000, 28, 28, 1)\n",
            "Number of images in x_train  60000\n",
            "Number of images in x_test  10000\n"
          ]
        }
      ]
    },
    {
      "cell_type": "code",
      "execution_count": 3,
      "id": "purple-birth",
      "metadata": {
        "id": "purple-birth",
        "outputId": "9f8380f5-a757-4879-d756-b4c217b0afc3",
        "colab": {
          "base_uri": "https://localhost:8080/"
        }
      },
      "outputs": [
        {
          "output_type": "stream",
          "name": "stdout",
          "text": [
            "tensor(0.) tensor(1.)\n"
          ]
        }
      ],
      "source": [
        "dataiter = iter(data_loader)\n",
        "images, labels = dataiter.next()\n",
        "print(torch.min(images), torch.max(images))"
      ]
    },
    {
      "cell_type": "code",
      "execution_count": 4,
      "id": "endless-charlotte",
      "metadata": {
        "id": "endless-charlotte"
      },
      "outputs": [],
      "source": [
        "# repeatedly reduce the size\n",
        "class Autoencoder_Linear(nn.Module):\n",
        "    def __init__(self):\n",
        "        super().__init__()        \n",
        "        self.encoder = nn.Sequential(\n",
        "            nn.Linear(28 * 28, 128), # (N, 784) -> (N, 128)\n",
        "            nn.ReLU(),\n",
        "            nn.Linear(128, 64),\n",
        "            nn.ReLU(),\n",
        "            nn.Linear(64, 12),\n",
        "            nn.ReLU(),\n",
        "            nn.Linear(12, 3) # -> N, 3\n",
        "        )\n",
        "        \n",
        "        self.decoder = nn.Sequential(\n",
        "            nn.Linear(3, 12),\n",
        "            nn.ReLU(),\n",
        "            nn.Linear(12, 64),\n",
        "            nn.ReLU(),\n",
        "            nn.Linear(64, 128),\n",
        "            nn.ReLU(),\n",
        "            nn.Linear(128, 28 * 28),\n",
        "            nn.Sigmoid()\n",
        "        )\n",
        "\n",
        "    def forward(self, x):\n",
        "        encoded = self.encoder(x)\n",
        "        decoded = self.decoder(encoded)\n",
        "        return decoded\n",
        "    \n",
        "# Input [-1, +1] -> use nn.Tanh"
      ]
    },
    {
      "cell_type": "code",
      "execution_count": 5,
      "id": "swedish-robin",
      "metadata": {
        "id": "swedish-robin"
      },
      "outputs": [],
      "source": [
        "class Autoencoder(nn.Module):\n",
        "    def __init__(self):\n",
        "        super().__init__()        \n",
        "        # N, 1, 28, 28\n",
        "        self.encoder = nn.Sequential(\n",
        "            nn.Conv2d(1, 16, 3, stride=2, padding=1), # -> N, 16, 14, 14\n",
        "            nn.ReLU(),\n",
        "            nn.Conv2d(16, 32, 3, stride=2, padding=1), # -> N, 32, 7, 7\n",
        "            nn.ReLU(),\n",
        "            nn.Conv2d(32, 64, 7) # -> N, 64, 1, 1\n",
        "        )\n",
        "        \n",
        "        # N , 64, 1, 1\n",
        "        self.decoder = nn.Sequential(\n",
        "            nn.ConvTranspose2d(64, 32, 7), # -> N, 32, 7, 7\n",
        "            nn.ReLU(),\n",
        "            nn.ConvTranspose2d(32, 16, 3, stride=2, padding=1, output_padding=1), # N, 16, 14, 14 (N,16,13,13 without output_padding)\n",
        "            nn.ReLU(),\n",
        "            nn.ConvTranspose2d(16, 1, 3, stride=2, padding=1, output_padding=1), # N, 1, 28, 28  (N,1,27,27)\n",
        "            nn.Sigmoid()\n",
        "        )\n",
        "\n",
        "    def forward(self, x):\n",
        "        encoded = self.encoder(x)\n",
        "        decoded = self.decoder(encoded)\n",
        "        return decoded\n",
        "    \n",
        " \n",
        "# Note: nn.MaxPool2d -> use nn.MaxUnpool2d, or use different kernelsize, stride etc to compensate...\n",
        "# Input [-1, +1] -> use nn.Tanh"
      ]
    },
    {
      "cell_type": "code",
      "execution_count": 6,
      "id": "educated-meditation",
      "metadata": {
        "id": "educated-meditation"
      },
      "outputs": [],
      "source": [
        "model = Autoencoder()\n",
        "\n",
        "criterion = nn.MSELoss()\n",
        "optimizer = torch.optim.Adam(model.parameters(),\n",
        "                             lr=1e-3, \n",
        "                             weight_decay=1e-5)"
      ]
    },
    {
      "cell_type": "code",
      "execution_count": 7,
      "id": "steady-ceremony",
      "metadata": {
        "id": "steady-ceremony",
        "outputId": "ea6f0251-55ec-4beb-83a7-f31a5245b4fe",
        "colab": {
          "base_uri": "https://localhost:8080/"
        }
      },
      "outputs": [
        {
          "output_type": "stream",
          "name": "stdout",
          "text": [
            "Epoch:1, Loss:0.0092\n"
          ]
        }
      ],
      "source": [
        "# Point to training loop video\n",
        "num_epochs = 1\n",
        "outputs = []\n",
        "for epoch in range(num_epochs):\n",
        "    for (img, _) in data_loader:\n",
        "        # img = img.reshape(-1, 28*28) # -> use for Autoencoder_Linear\n",
        "        recon = model(img)\n",
        "        loss = criterion(recon, img)\n",
        "        \n",
        "        optimizer.zero_grad()\n",
        "        loss.backward()\n",
        "        optimizer.step()\n",
        "\n",
        "    print(f'Epoch:{epoch+1}, Loss:{loss.item():.4f}')\n",
        "    outputs.append((epoch, img, recon))"
      ]
    },
    {
      "cell_type": "code",
      "execution_count": 8,
      "id": "numerous-greensboro",
      "metadata": {
        "id": "numerous-greensboro",
        "outputId": "fb37fff4-123d-4246-a69d-4570178e3c5e",
        "colab": {
          "base_uri": "https://localhost:8080/",
          "height": 158
        }
      },
      "outputs": [
        {
          "output_type": "display_data",
          "data": {
            "text/plain": [
              "<Figure size 648x144 with 18 Axes>"
            ],
            "image/png": "[encoded data removed]"
          },
          "metadata": {
            "needs_background": "light"
          }
        }
      ],
      "source": [
        "for k in range(0, num_epochs, 4):\n",
        "    plt.figure(figsize=(9, 2))\n",
        "    plt.gray()\n",
        "    imgs = outputs[k][1].detach().numpy()\n",
        "    recon = outputs[k][2].detach().numpy()\n",
        "    for i, item in enumerate(imgs):\n",
        "        if i >= 9: break\n",
        "        plt.subplot(2, 9, i+1)\n",
        "        # item = item.reshape(-1, 28,28) # -> use for Autoencoder_Linear\n",
        "        # item: 1, 28, 28\n",
        "        plt.imshow(item[0])\n",
        "            \n",
        "    for i, item in enumerate(recon):\n",
        "        if i >= 9: break\n",
        "        plt.subplot(2, 9, 9+i+1) # row_length + i + 1\n",
        "        # item = item.reshape(-1, 28,28) # -> use for Autoencoder_Linear\n",
        "        # item: 1, 28, 28\n",
        "        plt.imshow(item[0])"
      ]
    },
    {
      "cell_type": "code",
      "source": [
        "import tensorflow as tf\n",
        "from tensorflow.python.ops.nn_ops import dropout\n",
        "from tensorflow.keras.models import Sequential\n",
        "from tensorflow.keras.layers import Dense,Dropout,Conv2D,Flatten,MaxPooling2D\n",
        "\n",
        "model=Sequential()\n",
        "model.add(Conv2D(28, kernel_size=(3, 3),input_shape=input_shape))\n",
        "model.add(MaxPooling2D(pool_size=(2, 2)))\n",
        "model.add(Flatten())\n",
        "model.add(Dense(128, activation=tf.nn.relu))\n",
        "model.add(Dropout(0.2))\n",
        "model.add(Dense(10, activation='softmax'))"
      ],
      "metadata": {
        "id": "dpI_PN1zP70-"
      },
      "id": "dpI_PN1zP70-",
      "execution_count": 18,
      "outputs": []
    },
    {
      "cell_type": "code",
      "source": [
        "model.compile(optimizer='adam',loss='sparse_categorical_crossentropy',metrics=['accuracy'])"
      ],
      "metadata": {
        "id": "smKg8ouUP7xk"
      },
      "id": "smKg8ouUP7xk",
      "execution_count": 19,
      "outputs": []
    },
    {
      "cell_type": "code",
      "source": [
        "model.fit(x_train, y_train,\n",
        "          batch_size=128,\n",
        "          epochs=12,\n",
        "          verbose=1,\n",
        "          validation_data=(x_test, y_test))"
      ],
      "metadata": {
        "colab": {
          "base_uri": "https://localhost:8080/"
        },
        "id": "Myv885oMP7ue",
        "outputId": "8f4ef661-085f-4763-f928-4ad510db969d"
      },
      "id": "Myv885oMP7ue",
      "execution_count": 20,
      "outputs": [
        {
          "output_type": "stream",
          "name": "stdout",
          "text": [
            "Epoch 1/12\n",
            "469/469 [==============================] - 25s 52ms/step - loss: 0.2709 - accuracy: 0.9204 - val_loss: 0.1018 - val_accuracy: 0.9691\n",
            "Epoch 2/12\n",
            "469/469 [==============================] - 24s 51ms/step - loss: 0.1082 - accuracy: 0.9677 - val_loss: 0.0718 - val_accuracy: 0.9774\n",
            "Epoch 3/12\n",
            "469/469 [==============================] - 24s 51ms/step - loss: 0.0767 - accuracy: 0.9765 - val_loss: 0.0595 - val_accuracy: 0.9814\n",
            "Epoch 4/12\n",
            "469/469 [==============================] - 24s 51ms/step - loss: 0.0559 - accuracy: 0.9831 - val_loss: 0.0568 - val_accuracy: 0.9819\n",
            "Epoch 5/12\n",
            "469/469 [==============================] - 24s 51ms/step - loss: 0.0444 - accuracy: 0.9862 - val_loss: 0.0515 - val_accuracy: 0.9840\n",
            "Epoch 6/12\n",
            "469/469 [==============================] - 24s 51ms/step - loss: 0.0365 - accuracy: 0.9882 - val_loss: 0.0500 - val_accuracy: 0.9838\n",
            "Epoch 7/12\n",
            "469/469 [==============================] - 24s 50ms/step - loss: 0.0306 - accuracy: 0.9908 - val_loss: 0.0557 - val_accuracy: 0.9825\n",
            "Epoch 8/12\n",
            "469/469 [==============================] - 24s 51ms/step - loss: 0.0252 - accuracy: 0.9918 - val_loss: 0.0548 - val_accuracy: 0.9834\n",
            "Epoch 9/12\n",
            "469/469 [==============================] - 24s 50ms/step - loss: 0.0223 - accuracy: 0.9928 - val_loss: 0.0496 - val_accuracy: 0.9848\n",
            "Epoch 10/12\n",
            "469/469 [==============================] - 24s 51ms/step - loss: 0.0188 - accuracy: 0.9937 - val_loss: 0.0564 - val_accuracy: 0.9847\n",
            "Epoch 11/12\n",
            "469/469 [==============================] - 24s 50ms/step - loss: 0.0162 - accuracy: 0.9943 - val_loss: 0.0513 - val_accuracy: 0.9856\n",
            "Epoch 12/12\n",
            "469/469 [==============================] - 24s 51ms/step - loss: 0.0162 - accuracy: 0.9945 - val_loss: 0.0529 - val_accuracy: 0.9859\n"
          ]
        },
        {
          "output_type": "execute_result",
          "data": {
            "text/plain": [
              "<keras.callbacks.History at 0x7fb791c52050>"
            ]
          },
          "metadata": {},
          "execution_count": 20
        }
      ]
    },
    {
      "cell_type": "code",
      "source": [
        "score = model.evaluate(x_test, y_test, verbose=0)\n",
        "print('Test loss:', score[0])\n",
        "print('Test accuracy:', score[1])"
      ],
      "metadata": {
        "colab": {
          "base_uri": "https://localhost:8080/"
        },
        "id": "Xwa4NM3qP7q8",
        "outputId": "8bd69ef4-7de2-466f-a1cb-04f29ca116ff"
      },
      "id": "Xwa4NM3qP7q8",
      "execution_count": 21,
      "outputs": [
        {
          "output_type": "stream",
          "name": "stdout",
          "text": [
            "Test loss: 0.05288457125425339\n",
            "Test accuracy: 0.9858999848365784\n"
          ]
        }
      ]
    },
    {
      "cell_type": "code",
      "source": [
        "model.save('trained_model.h5')"
      ],
      "metadata": {
        "id": "VUea-8c9P7n9"
      },
      "id": "VUea-8c9P7n9",
      "execution_count": 22,
      "outputs": []
    },
    {
      "cell_type": "code",
      "execution_count": 13,
      "id": "diverse-hours",
      "metadata": {
        "id": "diverse-hours"
      },
      "outputs": [],
      "source": [
        ""
      ]
    },
    {
      "cell_type": "code",
      "source": [
        ""
      ],
      "metadata": {
        "id": "7zjhszA7Pw82"
      },
      "id": "7zjhszA7Pw82",
      "execution_count": 22,
      "outputs": []
    }
  ],
  "metadata": {
    "kernelspec": {
      "display_name": "pytorch",
      "language": "python",
      "name": "pytorch"
    },
    "language_info": {
      "codemirror_mode": {
        "name": "ipython",
        "version": 3
      },
      "file_extension": ".py",
      "mimetype": "text/x-python",
      "name": "python",
      "nbconvert_exporter": "python",
      "pygments_lexer": "ipython3",
      "version": "3.7.9"
    },
    "colab": {
      "name": "Autoencoder.ipynb",
      "provenance": []
    }
  },
  "nbformat": 4,
  "nbformat_minor": 5
}